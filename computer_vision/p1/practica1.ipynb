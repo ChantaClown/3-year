{
 "cells": [
  {
   "cell_type": "code",
   "execution_count": 2,
   "metadata": {},
   "outputs": [
    {
     "data": {
      "text/plain": [
       "{'imread': ['imageio', 'matplotlib'],\n",
       " 'imsave': ['imageio'],\n",
       " 'imshow': ['matplotlib'],\n",
       " 'imread_collection': ['imageio', 'matplotlib'],\n",
       " 'imshow_collection': ['matplotlib'],\n",
       " '_app_show': ['matplotlib']}"
      ]
     },
     "execution_count": 2,
     "metadata": {},
     "output_type": "execute_result"
    }
   ],
   "source": [
    "import skimage.io as io\n",
    "# Lista de plugins disponibles (no necesariamente instalados):\n",
    "io.find_available_plugins()\n",
    "# Lista de plugins instalados para cada funci´on:\n",
    "io.plugin_order()\n",
    "\n",
    "# Lectura -> io.imread\n",
    "# Escritura -> io.imsave\n",
    "# Visualizar -> io.imshow / pyplot.imshow\n"
   ]
  },
  {
   "cell_type": "markdown",
   "metadata": {},
   "source": [
    "# Leer y Visualizar\n",
    "\n",
    "Pixel -> Menor representacion de una imagen\n",
    "RGB -> Matriz de 3 dimensiones, con pixeles de valores entre ${0 - 250}$\n",
    "- $P(0,0) = (255,0,0)$ Rojo\n",
    "- $P(0,1) = (0,255,0)$ Verde\n",
    "- $P(0,2) = (0,0,255)$ Azul\n",
    "- $P(0,0) = (255,255,255)$ Blanco\n",
    "- $P(0,0) = (0,0,0)$ Negro\n",
    "\n",
    "256 = 2⁸ -> uint8 = sizenet(+ o -) int 8bit || 0..256\n",
    "\n",
    "Escala gris: Paso de \"Tridimensional\" a \"Bidimesional\"\n",
    "    3 canales ->  1 canal\n",
    "\n",
    "Al realizar operaciones se pasade $uint8$ a $float$, pasamos de usar $(255,255,255)$ a usar $(1,1,1)$. "
   ]
  },
  {
   "cell_type": "markdown",
   "metadata": {},
   "source": [
    "# Escritura de imagenes\n"
   ]
  }
 ],
 "metadata": {
  "kernelspec": {
   "display_name": "Computer-Vision",
   "language": "python",
   "name": "python3"
  },
  "language_info": {
   "codemirror_mode": {
    "name": "ipython",
    "version": 3
   },
   "file_extension": ".py",
   "mimetype": "text/x-python",
   "name": "python",
   "nbconvert_exporter": "python",
   "pygments_lexer": "ipython3",
   "version": "3.12.3"
  }
 },
 "nbformat": 4,
 "nbformat_minor": 2
}
