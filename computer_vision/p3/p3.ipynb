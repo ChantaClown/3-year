{
 "cells": [
  {
   "cell_type": "markdown",
   "metadata": {},
   "source": [
    "# EJERCICIO 1\n",
    "\n",
    "Desarrollar un método computacional que, a partir de una imagen aérea, permita:\n",
    "Segmentar las carreteras existentes en la imagen. Es decir, dada una imagen aérea, propor-\n",
    "cionar una máscara binaria con los pı́xeles de carretera a 1 y el resto a 01 .\n",
    "Proporcionar una evaluación cuantitativa de la segmentación usando el ground truth corres-\n",
    "pondiente, usando una metodologı́a apropiada.\n",
    "\n",
    "USAR MACHINE LEARNING -> PATERN RECOGNITION\n",
    "    pipeline -> [extraccion de caracteristicas] -> NO seleccion de caracteristicas -> clasificacion\n",
    "\n",
    "20 IMG\n",
    "20 MASK\n",
    "\n",
    "-------\n",
    "\n",
    "SE ENTRENA CON LAS MASCARAS\n",
    "\n",
    "    N-RANDOM O K-FOLD\n",
    "\n",
    "TABLA PARA LA VALIDACION\n",
    "    $\\mu \\pm \\sigma$ \n",
    "- CLASIFICACION BINARIA PIXEL A PIXEL\n",
    "    - CARRETA -> 1 | NO CARRETERA -> 0\n",
    "\n",
    "\n",
    "buscar en librerias:\n",
    "    baseline -> version mas simple\n",
    "        vec de caracteristicas -> entra en el clasificador          -> salida mascara\n",
    "                                            ^\n",
    "                                            |\n",
    "                                  otro vector de caracteristicas = mascara\n",
    "    extractores de caracteristicas\n",
    "\n",
    "vectores nxm con los 3 valores de los pixeles\n",
    "\n",
    "aproximaciones:\n",
    "    añadir caracteristicas -> aumenta el vector de caracteristicas\n",
    "    "
   ]
  },
  {
   "cell_type": "code",
   "execution_count": null,
   "metadata": {},
   "outputs": [],
   "source": [
    "import numpy as np\n",
    "import matplotlib.pyplot as plt\n",
    "import scipy, skimage, sklearn\n",
    "\n",
    "roads = \"computer_vision/p3/DataSet_1\"\n",
    "animals = \"computer_vision/p3/DataSet_2\"\n",
    "\n",
    "    "
   ]
  },
  {
   "cell_type": "markdown",
   "metadata": {},
   "source": [
    "# EJERCICIO 2\n",
    "\n",
    "Desarrollar un método computacional que, a partir de una imagen (y opcionalmente su máscara\n",
    "de recorte), permita:\n",
    "Identificar las imágenes que pertenecen a las categorı́as2 : “elephant” y “rhino”.\n",
    "Proporcionar una evaluación cuantitativa adecuada de la identificaciones correspondientes\n",
    "\n",
    "Es decir, clasificar cada imagen, considerando caracterı́sticas integradas para toda la imagen, región recortada y/o contorno, entre, por ejemplo, clase objetivo y resto"
   ]
  }
 ],
 "metadata": {
  "kernelspec": {
   "display_name": "Computer-Vision",
   "language": "python",
   "name": "python3"
  },
  "language_info": {
   "name": "python",
   "version": "3.12.3"
  }
 },
 "nbformat": 4,
 "nbformat_minor": 2
}
