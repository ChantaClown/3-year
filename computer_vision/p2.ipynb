{
 "cells": [
  {
   "cell_type": "markdown",
   "metadata": {},
   "source": [
    "# Práctica 2: Implementación de Algoritmos de Procesamiento de Imágenes\n",
    "\n",
    "Esta práctica tiene como objetivo implementar operaciones de procesamiento de imagen utilizando métodos manuales, sin recurrir a funciones prediseñadas en librerías de tratamiento de imágenes. Al desarrollar estas implementaciones, se busca comprender tanto el funcionamiento de estos algoritmos como los efectos que tienen sobre las imágenes de entrada. \n",
    "\n",
    "Para esta práctica, utilizaremos Python 3.x junto con bibliotecas de procesamiento como Numpy, SciPy y Scikit-learn. El trabajo se centra en el suavizado de imágenes mediante filtros gaussianos en el dominio espacial y en el dominio de frecuencia. Cada una de las operaciones implementadas se detallará a continuación.\n"
   ]
  },
  {
   "cell_type": "code",
   "execution_count": null,
   "metadata": {},
   "outputs": [],
   "source": [
    "import numpy as np\n",
    "import matplotlib.pyplot as plt\n",
    "import skimage.data as data\n",
    "img = data.camera()\n"
   ]
  },
  {
   "cell_type": "markdown",
   "metadata": {},
   "source": [
    "## Filtrado Espacial - Suavizado Gaussiano 1D\n",
    "\n",
    "La función `gaussianFilterSpatial1D(sigma)` genera un kernel gaussiano unidimensional con un parámetro de suavizado \\( \\sigma \\). Este kernel se utiliza para aplicar un filtro de suavizado en el dominio espacial de una imagen.\n",
    "\n",
    "**Parámetros:**\n",
    "- `sigma`: Controla el ancho del filtro y la cantidad de suavizado. A mayor valor de \\( \\sigma \\), el filtro será más amplio y el efecto de suavizado será mayor.\n",
    "\n",
    "**Detalles de implementación:**\n",
    "- El tamaño del kernel, \\( N \\), se calcula como \\( N = 2 \\lceil 3\\sigma \\rceil + 1 \\), para asegurar que el kernel tenga un tamaño suficiente para capturar la forma de la función gaussiana.\n",
    "- La posición central de la gaussiana, \\( x = 0 \\), se sitúa en el punto \\( \\lfloor N/2 \\rfloor + 1 \\).\n",
    "\n",
    "Este filtro es el primer paso en la implementación del suavizado Gaussiano bidimensional.\n"
   ]
  },
  {
   "cell_type": "code",
   "execution_count": null,
   "metadata": {},
   "outputs": [],
   "source": [
    "def gaussianFilterSpatial1D(sigma):\n",
    "    N = int(2 * np.ceil(3 * sigma) + 1)\n",
    "    center = (N // 2) + 1\n",
    "    kernel = np.zeros(N)\n",
    "    # Rellenar el kernel con la formula\n",
    "    for x in range(N):\n",
    "        kernel[x] = np.exp(-((x - center)**2) / (2 * sigma ** 2))\n",
    "    # Normaliza el kernel para que la suma sea 1\n",
    "    kernel /= np.sum(kernel)\n",
    "    \n",
    "    return kernel"
   ]
  },
  {
   "cell_type": "code",
   "execution_count": null,
   "metadata": {},
   "outputs": [],
   "source": [
    "sigmas = [15, 20, 30, 40, 50, 60]  # Lista de diferentes valores de sigma\n",
    "plt.figure(figsize=(10, 6))\n",
    "\n",
    "# Generamos y graficamos el perfil Gaussiano para cada sigma\n",
    "for sigma in sigmas:\n",
    "    kernel = gaussianFilterSpatial1D(sigma)\n",
    "    center_index = len(kernel) // 2  # Índice central del kernel\n",
    "    x_values = np.arange(-center_index, center_index + 1)  # Crear eje x centrado\n",
    "    plt.plot(x_values, kernel, label=f\"sigma={sigma}\")\n",
    "\n",
    "# Configuramos los detalles de la gráfica\n",
    "plt.title(\"Gaussian Kernel Profiles for Different Sigma Values (Centered)\")\n",
    "plt.xlabel(\"Index (Centered)\")\n",
    "plt.ylabel(\"Value\")\n",
    "plt.legend()\n",
    "plt.grid(True)\n",
    "plt.show()\n"
   ]
  },
  {
   "cell_type": "markdown",
   "metadata": {},
   "source": [
    "## Filtrado Espacial - Suavizado Gaussiano 2D\n",
    "\n",
    "La función `ApplyGaussianFilterSpatial(inImage, sigma)` aplica un filtro Gaussiano bidimensional sobre la imagen de entrada `inImage` usando un filtro de tamaño \\( N \\times N \\) con un parámetro \\( \\sigma \\).\n",
    "\n",
    "**Parámetros:**\n",
    "- `inImage`: Imagen de entrada sobre la cual se aplicará el suavizado.\n",
    "- `sigma`: Controla el grado de suavizado, influenciando el tamaño del kernel.\n",
    "\n",
    "**Detalles de implementación:**\n",
    "- La función implementa el filtro Gaussiano bidimensional de forma eficiente, aplicando primero un kernel unidimensional 1xN y luego su transpuesto Nx1. Esto aprovecha la separabilidad del filtro Gaussiano, reduciendo la complejidad de la operación.\n",
    "- El resultado es una imagen suavizada en la que se han atenuado los detalles y el ruido de alta frecuencia.\n",
    "\n",
    "Este suavizado en el dominio espacial es útil para reducir ruido en la imagen sin pérdida significativa de información."
   ]
  },
  {
   "cell_type": "code",
   "execution_count": null,
   "metadata": {},
   "outputs": [],
   "source": [
    "def ApplyGaussianFilterSpatial(inImage, sigma):\n",
    "    conv = gaussianFilterSpatial1D(sigma)\n",
    "    # Usar apply_along_axis  para aplicar a las filas la funcion\n",
    "    img = np.apply_along_axis(lambda x: np.convolve(x, conv, mode=\"same\"), axis=1, arr=inImage)\n",
    "    # Aplicar otra vez para las columnas\n",
    "    filter = np.apply_along_axis(lambda x: np.convolve(x, conv, mode=\"same\"), axis=0, arr=img) \n",
    "    return filter, (conv, img)"
   ]
  },
  {
   "cell_type": "code",
   "execution_count": null,
   "metadata": {},
   "outputs": [],
   "source": [
    "sigma = 15\n",
    "filtered_image, (conv, intermediate_image) = ApplyGaussianFilterSpatial(img, sigma)\n",
    "\n",
    "# Creamos los subplots para visualizar cada paso\n",
    "fig, axes = plt.subplots(1, 4, figsize=(20, 5))\n",
    "\n",
    "# Imagen original\n",
    "axes[0].imshow(img, cmap='gray')\n",
    "axes[0].set_title('Imagen Original')\n",
    "axes[0].axis('off')\n",
    "\n",
    "# Resultado de la convolución en las filas\n",
    "axes[1].imshow(intermediate_image, cmap='gray')\n",
    "axes[1].set_title('Convolución en Filas')\n",
    "axes[1].axis('off')\n",
    "\n",
    "# Imagen final filtrada (después de la convolución en columnas)\n",
    "axes[2].imshow(filtered_image, cmap='gray')\n",
    "axes[2].set_title('Imagen Filtrada')\n",
    "axes[2].axis('off')\n",
    "\n",
    "# Graficamos el kernel como una línea\n",
    "axes[3].plot(conv)\n",
    "axes[3].set_title('Filtro Gaussiano (Kernel 1D)')\n",
    "axes[3].set_xlabel(\"Index\")\n",
    "axes[3].set_ylabel(\"Value\")\n",
    "\n",
    "plt.show()\n"
   ]
  },
  {
   "cell_type": "markdown",
   "metadata": {},
   "source": [
    "## Filtrado en Frecuencia - Generación del Filtro Gaussiano\n",
    "\n",
    "La función `gaussianFilterFrec(inImage, sigma)` calcula un filtro gaussiano en el dominio de frecuencia con dimensiones iguales a las de la imagen de entrada `inImage` y un parámetro de suavizado \\( \\sigma \\).\n",
    "\n",
    "**Parámetros:**\n",
    "- `inImage`: Imagen de entrada utilizada para definir el tamaño del filtro.\n",
    "- `sigma`: Controla el ancho de la gaussiana y la cantidad de suavizado en el dominio de frecuencia.\n",
    "\n",
    "**Detalles de implementación:**\n",
    "- Este filtro es una representación Gaussiana en el dominio de frecuencia y se aplica sobre una imagen transformada a este dominio.\n",
    "- La ventaja de aplicar filtros en el dominio de frecuencia es que permite realizar convoluciones de forma más eficiente usando la Transformada de Fourier.\n",
    "\n",
    "Este filtro en el dominio de frecuencia se utilizará en la siguiente función para aplicar suavizado Gaussiano en dicho dominio.\n"
   ]
  },
  {
   "cell_type": "code",
   "execution_count": null,
   "metadata": {},
   "outputs": [],
   "source": [
    "def gaussianFilterFrec(inImage, sigma):\n",
    "    # Obtenemos las dimensiones\n",
    "    N, M = inImage.shape\n",
    "    # Obteneter la transformada de fourier\n",
    "    dft = np.fft.fft2(inImage)\n",
    "    img_frec = np.fft.fftshift(dft)\n",
    "    \n",
    "    # Crea un filtro gaussiano en el dominio de la frecuencia\n",
    "    x = np.linspace(-M // 2, M // 2, M)\n",
    "    y = np.linspace(-N // 2, N // 2, N)\n",
    "    X, Y = np.meshgrid(x, y)\n",
    "    \n",
    "    # Filtro gaussiano\n",
    "    gaussian_kernel = np.exp(-(X**2 + Y**2) / (2 * sigma**2))\n",
    "    \n",
    "    # NECESARIO VOLVER A ESPACIAL ?\n",
    "    \n",
    "    # Aplicar el filtro\n",
    "    filtered_image_frec = img_frec * gaussian_kernel\n",
    "    \n",
    "    # Transformada inversa para volver al dominio espacial\n",
    "    filtered_image = np.fft.ifftshift(filtered_image_frec)\n",
    "    filtered_image = np.fft.ifft2(filtered_image)\n",
    "    return np.abs(filtered_image), (np.abs(dft), np.abs(img_frec), np.abs(filtered_image_frec), gaussian_kernel)"
   ]
  },
  {
   "cell_type": "code",
   "execution_count": null,
   "metadata": {},
   "outputs": [],
   "source": [
    "sigmas = [10, 20, 30, 40, 50, 60, 80]  # Lista de diferentes valores de sigma\n",
    "plt.figure(figsize=(10, 6))\n",
    "\n",
    "# Generamos y graficamos el perfil Gaussiano para cada sigma\n",
    "for sigma in sigmas:\n",
    "    _, (_, _, _, kernel) = gaussianFilterFrec(img, sigma)\n",
    "    center_row = kernel[kernel.shape[0] // 2, :]  # Perfil central del kernel\n",
    "    plt.plot(center_row, label=f\"sigma={sigma}\")\n",
    "\n",
    "# Configuramos los detalles de la gráfica\n",
    "plt.title(\"Gaussian Kernel Profiles for Different Sigma Values\")\n",
    "plt.xlabel(\"Index\")\n",
    "plt.ylabel(\"Value\")\n",
    "plt.legend()\n",
    "plt.grid(True)\n",
    "plt.show()\n"
   ]
  },
  {
   "cell_type": "code",
   "execution_count": null,
   "metadata": {},
   "outputs": [],
   "source": [
    "def ApplyGaussianFilterFrec(inImage, sigma):\n",
    "    filtered_image_frec, _ = gaussianFilterFrec(inImage, sigma)\n",
    "    return filtered_image_frec"
   ]
  },
  {
   "cell_type": "markdown",
   "metadata": {},
   "source": [
    "## Filtrado en Frecuencia - Aplicación del Filtro Gaussiano\n",
    "\n",
    "La función `ApplyGaussianFilterFrec(inImage, sigma)` aplica el filtro Gaussiano previamente generado sobre la imagen de entrada `inImage` en el dominio de frecuencia.\n",
    "\n",
    "**Parámetros:**\n",
    "- `inImage`: Imagen de entrada que será suavizada.\n",
    "- `sigma`: Controla la intensidad del suavizado, al definir el ancho de la gaussiana en el dominio de frecuencia.\n",
    "\n",
    "**Detalles de implementación:**\n",
    "- El filtro Gaussiano se ajusta al tamaño de la imagen de entrada y se aplica en el dominio de frecuencia.\n",
    "- Al transformar la imagen al dominio de frecuencia y aplicar el filtro Gaussiano, obtenemos un suavizado que atenúa las altas frecuencias y reduce el ruido en la imagen de forma eficiente.\n",
    "\n",
    "El suavizado en el dominio de frecuencia es particularmente útil en aplicaciones donde se busca procesar la imagen de manera eficiente y uniforme.\n"
   ]
  },
  {
   "cell_type": "code",
   "execution_count": null,
   "metadata": {},
   "outputs": [],
   "source": [
    "sigma = 15\n",
    "filtered_image = ApplyGaussianFilterFrec(img, sigma)\n",
    "\n",
    "# Llamamos a la función y obtenemos las imágenes intermedias\n",
    "filtered_image, (dft, img_frec, filtered_image_frec, gaussian_kernel) = gaussianFilterFrec(img, sigma)\n",
    "\n",
    "# Creamos los subplots para visualizar cada paso\n",
    "fig, axes = plt.subplots(1, 6, figsize=(20, 5))\n",
    "\n",
    "# Imagen Original\n",
    "axes[0].imshow(img, cmap='gray')\n",
    "axes[0].set_title('Imagen Original')\n",
    "axes[0].axis('off')\n",
    "\n",
    "# DFT de la Imagen\n",
    "axes[1].imshow(np.log(1 + dft), cmap='gray')\n",
    "axes[1].set_title('DFT de la Imagen')\n",
    "axes[1].axis('off')\n",
    "\n",
    "# DFT Centrada\n",
    "axes[2].imshow(np.log(1 + img_frec), cmap='gray')\n",
    "axes[2].set_title('DFT Centrada')\n",
    "axes[2].axis('off')\n",
    "\n",
    "# Filtro Gaussiano en Dominio de Frecuencia\n",
    "axes[3].imshow(gaussian_kernel, cmap='gray')\n",
    "axes[3].set_title('Filtro Gaussiano')\n",
    "axes[3].axis('off')\n",
    "\n",
    "# DFT Filtrada\n",
    "axes[4].imshow(np.log(1 + filtered_image_frec), cmap='gray')\n",
    "axes[4].set_title('DFT Filtrada')\n",
    "axes[4].axis('off')\n",
    "\n",
    "# Imagen Final Filtrada en el Dominio Espacial\n",
    "axes[5].imshow(filtered_image, cmap='gray')\n",
    "axes[5].set_title('Imagen Filtrada')\n",
    "axes[5].axis('off')\n",
    "\n",
    "plt.show()"
   ]
  },
  {
   "cell_type": "markdown",
   "metadata": {},
   "source": [
    "# Visualización y Análisis de Resultados\n",
    "\n",
    "Una vez aplicados los filtros Gaussiano en el dominio espacial y en el dominio de frecuencia, es importante observar los resultados para entender el efecto de cada filtro.\n",
    "\n",
    "1. **Filtrado Espacial**: Debería observarse una reducción de ruido y suavizado de detalles finos en la imagen, manteniendo una buena percepción general de los bordes.\n",
    "\n",
    "2. **Filtrado en Frecuencia**: Debería observarse un resultado similar en cuanto a la suavización, pero con una eficiencia computacional diferente. Al comparar ambas técnicas, podemos observar si los efectos son equivalentes o si existen diferencias perceptibles en ciertos detalles de la imagen.\n",
    "\n",
    "Estas visualizaciones nos permiten verificar que el suavizado Gaussiano ha sido correctamente implementado y evaluar su impacto en la calidad de la imagen.\n"
   ]
  },
  {
   "cell_type": "markdown",
   "metadata": {},
   "source": [
    "La diferencia en los valores de \\(\\sigma\\) entre los filtros Gaussiano 1D y 2D se debe a cómo se propaga el efecto del desenfoque en cada caso y a cómo se interpretan los valores de \\(\\sigma\\) en cada dimensión.\n",
    "\n",
    "Aquí están los motivos principales:\n",
    "\n",
    "### 1. **Escala de Desenfoque en 1D vs. 2D**\n",
    "   - En un **filtro Gaussiano 1D**, \\(\\sigma\\) determina la \"anchura\" del desenfoque en una sola dirección (horizontal o vertical). Para lograr un desenfoque perceptible, necesitas un valor de \\(\\sigma\\) relativamente alto, ya que el filtro solo afecta una dimensión.\n",
    "   - En un **filtro Gaussiano 2D**, \\(\\sigma\\) determina la propagación en todas las direcciones, de manera que incluso un valor pequeño de \\(\\sigma\\) produce un desenfoque significativo, ya que se aplica en ambas dimensiones (horizontal y vertical). Esto hace que la misma cantidad de desenfoque sea más perceptible en 2D que en 1D para el mismo valor de \\(\\sigma\\).\n",
    "\n",
    "### 2. **Acumulación del Efecto en 2D**\n",
    "   - Al aplicar un filtro Gaussiano 1D en ambas direcciones (horizontal y vertical) de forma separada, el desenfoque final en 2D es el producto de los efectos de cada filtro. Esto significa que si aplicas un filtro 1D horizontal con \\(\\sigma = 5\\) y luego un filtro 1D vertical también con \\(\\sigma = 5\\), el desenfoque total se acumula, creando un efecto mayor en 2D.\n",
    "   - En contraste, un filtro Gaussiano 2D directamente aplicado considera \\(\\sigma\\) en ambas direcciones al mismo tiempo, y el efecto del desenfoque es menos intenso para el mismo valor de \\(\\sigma\\) en comparación con aplicar dos veces el filtro 1D.\n",
    "\n",
    "### 3. **Interpretación de \\(\\sigma\\) en 1D vs. 2D**\n",
    "   - En 1D, \\(\\sigma\\) representa la desviación estándar de la distribución Gaussiana a lo largo de una sola línea. Para un desenfoque perceptible en una sola dimensión, necesitas una mayor \"anchura\" de la campana Gaussiana, es decir, un \\(\\sigma\\) mayor.\n",
    "   - En 2D, \\(\\sigma\\) representa la desviación estándar en un plano bidimensional. Como el desenfoque se distribuye en ambas direcciones, un valor de \\(\\sigma\\) pequeño ya es suficiente para abarcar un área amplia de la imagen.\n",
    "\n",
    "### Resumen\n",
    "En resumen, el filtro Gaussiano 2D distribuye el desenfoque en ambas direcciones simultáneamente, haciendo que un valor pequeño de \\(\\sigma\\) sea suficiente para un desenfoque visible. En cambio, el filtro Gaussiano 1D afecta solo una dirección a la vez, por lo que se requiere un valor de \\(\\sigma\\) mayor para lograr un efecto perceptible de desenfoque en una sola dimensión.\n",
    "\n",
    "\n",
    "La confusión surge debido a la relación inversa de la sigma (desviación estándar) en los dos dominios:\n",
    "\n",
    "    Filtro en el dominio espacial:\n",
    "        Aplica una convolución directa con una función gaussiana.\n",
    "        Una sigma grande significa una gaussiana más ancha, lo que provoca un mayor desenfoque porque se promedian más píxeles.\n",
    "        Necesitas una sigma grande para ver un efecto notable de suavizado.\n",
    "\n",
    "    Filtro en el dominio de la frecuencia:\n",
    "        Multiplica la transformada de Fourier de la imagen por una función gaussiana en el dominio de la frecuencia.\n",
    "        Una sigma pequeña en el dominio de la frecuencia atenúa más las altas frecuencias, resultando en un mayor desenfoque en el dominio espacial después de la transformada inversa.\n",
    "        Por eso, con una sigma pequeña observas más efecto en la imagen final.\n",
    "\n",
    "Importante: La gaussiana en el dominio de la frecuencia sigue siendo un filtro de paso bajo porque reduce las componentes de alta frecuencia."
   ]
  }
 ],
 "metadata": {
  "kernelspec": {
   "display_name": "Computer-Vision",
   "language": "python",
   "name": "python3"
  },
  "language_info": {
   "codemirror_mode": {
    "name": "ipython",
    "version": 3
   },
   "file_extension": ".py",
   "mimetype": "text/x-python",
   "name": "python",
   "nbconvert_exporter": "python",
   "pygments_lexer": "ipython3",
   "version": "3.12.3"
  }
 },
 "nbformat": 4,
 "nbformat_minor": 2
}
