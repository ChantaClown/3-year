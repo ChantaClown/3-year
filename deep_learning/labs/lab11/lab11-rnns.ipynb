{
 "cells": [
  {
   "cell_type": "markdown",
   "metadata": {
    "id": "57knM8jrYZ2t"
   },
   "source": [
    "# Práctica 11: RNNs\n",
    "\n",
    "## Pre-requisitos\n",
    "\n",
    "### Instalar paquetes\n",
    "\n",
    "Si la práctica requiere algún paquete de Python, habrá que incluir una celda en la que se instalen. Si usamos un paquete que se ha utilizado en prácticas anteriores, podríamos dar por supuesto que está instalado pero no cuesta nada satisfacer todas las dependencias en la propia práctica para reducir las dependencias entre ellas.\n",
    "\n",
    "### NOTA: En <font color='red'>Google Colab</font> hay que instalar los paquetes EN CADA EJECUCIÓN"
   ]
  },
  {
   "cell_type": "code",
   "execution_count": 1,
   "metadata": {
    "id": "LkaimNJfYZ2w"
   },
   "outputs": [
    {
     "name": "stderr",
     "output_type": "stream",
     "text": [
      "2024-12-13 11:40:02.793581: E external/local_xla/xla/stream_executor/cuda/cuda_fft.cc:477] Unable to register cuFFT factory: Attempting to register factory for plugin cuFFT when one has already been registered\n",
      "WARNING: All log messages before absl::InitializeLog() is called are written to STDERR\n",
      "E0000 00:00:1734086402.831957   18440 cuda_dnn.cc:8310] Unable to register cuDNN factory: Attempting to register factory for plugin cuDNN when one has already been registered\n",
      "E0000 00:00:1734086402.841473   18440 cuda_blas.cc:1418] Unable to register cuBLAS factory: Attempting to register factory for plugin cuBLAS when one has already been registered\n",
      "2024-12-13 11:40:02.873011: I tensorflow/core/platform/cpu_feature_guard.cc:210] This TensorFlow binary is optimized to use available CPU instructions in performance-critical operations.\n",
      "To enable the following instructions: AVX2 FMA, in other operations, rebuild TensorFlow with the appropriate compiler flags.\n"
     ]
    }
   ],
   "source": [
    "# Ejemplo de instalación de tensorflow 2.0\n",
    "#%tensorflow_version 2.x\n",
    "# !pip3 install tensorflow  # NECESARIO SOLO SI SE EJECUTA EN LOCAL\n",
    "import tensorflow as tf\n",
    "\n",
    "# Hacemos los imports que sean necesarios\n",
    "import numpy as np\n",
    "import matplotlib.pyplot as plt\n",
    "import pandas as pd\n",
    "import seaborn as sns\n",
    "\n",
    "import os\n",
    "import datetime"
   ]
  },
  {
   "cell_type": "markdown",
   "metadata": {
    "id": "SOch-CnwQttl"
   },
   "source": [
    "# Pronóstico de series de tiempo\n",
    "\n",
    "Vamos a utilizar un [conjunto de datos de series de tiempo meteorológicas](https://www.bgc-jena.mpg.de/wetter/) registradas por el Instituto Max Planck de Biogeoquímica. \n",
    "\n",
    "Este conjunto de datos contiene 14 características diferentes, como la temperatura del aire, la presión atmosférica y la humedad. Estos se recopilaron cada 10 minutos, de 2009 a 2016.\n",
    "\n",
    "Lo primero que vamos a hacer es cargar los datos en un DataFrame de la librería [Pandas](https://pandas.pydata.org/).\n",
    "\n",
    "En Keras tenemos implementado tanto las capas recurrentes [GRU](https://www.tensorflow.org/api_docs/python/tf/keras/layers/GRU) y [LSTM](https://www.tensorflow.org/api_docs/python/tf/keras/layers/LSTM). Sin embargo, es posible crear cualquier capa recurrente que queramos de una manera sencilla. Basta con crear una capa (llamada celda) que indique las operaciones a realizar, y luego encapsularla en la capa [RNN](https://www.tensorflow.org/api_docs/python/tf/keras/layers/RNN). \n",
    "\n",
    "Por tanto, en esta clase vamos a tratar de replicar la celda de la capa GRU."
   ]
  },
  {
   "cell_type": "code",
   "execution_count": 2,
   "metadata": {
    "id": "1gXdWDBIEKel"
   },
   "outputs": [],
   "source": [
    "zip_path = tf.keras.utils.get_file(\n",
    "    origin='https://storage.googleapis.com/tensorflow/tf-keras-datasets/jena_climate_2009_2016.csv.zip',\n",
    "    fname='jena_climate_2009_2016.csv.zip',\n",
    "    extract=True)\n",
    "\n",
    "PATH = \"/home/clown/3-year/deep_learning/labs/lab11/jena_climate_2009_2016.csv\"\n",
    "csv_path, _ = os.path.splitext(PATH)\n",
    "df = pd.read_csv(PATH)[::6]"
   ]
  },
  {
   "cell_type": "markdown",
   "metadata": {
    "id": "wkaCDOGapMyl"
   },
   "source": [
    "## Visualización de los datos\n",
    "\n",
    "Antes de nada, vamos a echar un vistazo a los datos."
   ]
  },
  {
   "cell_type": "code",
   "execution_count": 3,
   "metadata": {
    "id": "5xjcLa21EKen"
   },
   "outputs": [
    {
     "data": {
      "text/html": [
       "<div>\n",
       "<style scoped>\n",
       "    .dataframe tbody tr th:only-of-type {\n",
       "        vertical-align: middle;\n",
       "    }\n",
       "\n",
       "    .dataframe tbody tr th {\n",
       "        vertical-align: top;\n",
       "    }\n",
       "\n",
       "    .dataframe thead th {\n",
       "        text-align: right;\n",
       "    }\n",
       "</style>\n",
       "<table border=\"1\" class=\"dataframe\">\n",
       "  <thead>\n",
       "    <tr style=\"text-align: right;\">\n",
       "      <th></th>\n",
       "      <th>Date Time</th>\n",
       "      <th>p (mbar)</th>\n",
       "      <th>T (degC)</th>\n",
       "      <th>Tpot (K)</th>\n",
       "      <th>Tdew (degC)</th>\n",
       "      <th>rh (%)</th>\n",
       "      <th>VPmax (mbar)</th>\n",
       "      <th>VPact (mbar)</th>\n",
       "      <th>VPdef (mbar)</th>\n",
       "      <th>sh (g/kg)</th>\n",
       "      <th>H2OC (mmol/mol)</th>\n",
       "      <th>rho (g/m**3)</th>\n",
       "      <th>wv (m/s)</th>\n",
       "      <th>max. wv (m/s)</th>\n",
       "      <th>wd (deg)</th>\n",
       "    </tr>\n",
       "  </thead>\n",
       "  <tbody>\n",
       "    <tr>\n",
       "      <th>0</th>\n",
       "      <td>01.01.2009 00:10:00</td>\n",
       "      <td>996.52</td>\n",
       "      <td>-8.02</td>\n",
       "      <td>265.40</td>\n",
       "      <td>-8.90</td>\n",
       "      <td>93.3</td>\n",
       "      <td>3.33</td>\n",
       "      <td>3.11</td>\n",
       "      <td>0.22</td>\n",
       "      <td>1.94</td>\n",
       "      <td>3.12</td>\n",
       "      <td>1307.75</td>\n",
       "      <td>1.03</td>\n",
       "      <td>1.75</td>\n",
       "      <td>152.3</td>\n",
       "    </tr>\n",
       "    <tr>\n",
       "      <th>6</th>\n",
       "      <td>01.01.2009 01:10:00</td>\n",
       "      <td>996.50</td>\n",
       "      <td>-7.62</td>\n",
       "      <td>265.81</td>\n",
       "      <td>-8.30</td>\n",
       "      <td>94.8</td>\n",
       "      <td>3.44</td>\n",
       "      <td>3.26</td>\n",
       "      <td>0.18</td>\n",
       "      <td>2.04</td>\n",
       "      <td>3.27</td>\n",
       "      <td>1305.68</td>\n",
       "      <td>0.18</td>\n",
       "      <td>0.63</td>\n",
       "      <td>166.5</td>\n",
       "    </tr>\n",
       "    <tr>\n",
       "      <th>12</th>\n",
       "      <td>01.01.2009 02:10:00</td>\n",
       "      <td>996.63</td>\n",
       "      <td>-8.85</td>\n",
       "      <td>264.57</td>\n",
       "      <td>-9.70</td>\n",
       "      <td>93.5</td>\n",
       "      <td>3.12</td>\n",
       "      <td>2.92</td>\n",
       "      <td>0.20</td>\n",
       "      <td>1.82</td>\n",
       "      <td>2.93</td>\n",
       "      <td>1312.11</td>\n",
       "      <td>0.16</td>\n",
       "      <td>0.50</td>\n",
       "      <td>158.3</td>\n",
       "    </tr>\n",
       "    <tr>\n",
       "      <th>18</th>\n",
       "      <td>01.01.2009 03:10:00</td>\n",
       "      <td>996.87</td>\n",
       "      <td>-8.84</td>\n",
       "      <td>264.56</td>\n",
       "      <td>-9.69</td>\n",
       "      <td>93.5</td>\n",
       "      <td>3.13</td>\n",
       "      <td>2.92</td>\n",
       "      <td>0.20</td>\n",
       "      <td>1.83</td>\n",
       "      <td>2.93</td>\n",
       "      <td>1312.37</td>\n",
       "      <td>0.07</td>\n",
       "      <td>0.25</td>\n",
       "      <td>129.3</td>\n",
       "    </tr>\n",
       "    <tr>\n",
       "      <th>24</th>\n",
       "      <td>01.01.2009 04:10:00</td>\n",
       "      <td>997.05</td>\n",
       "      <td>-9.23</td>\n",
       "      <td>264.15</td>\n",
       "      <td>-10.25</td>\n",
       "      <td>92.2</td>\n",
       "      <td>3.03</td>\n",
       "      <td>2.79</td>\n",
       "      <td>0.24</td>\n",
       "      <td>1.74</td>\n",
       "      <td>2.80</td>\n",
       "      <td>1314.62</td>\n",
       "      <td>0.10</td>\n",
       "      <td>0.38</td>\n",
       "      <td>203.9</td>\n",
       "    </tr>\n",
       "  </tbody>\n",
       "</table>\n",
       "</div>"
      ],
      "text/plain": [
       "              Date Time  p (mbar)  T (degC)  Tpot (K)  Tdew (degC)  rh (%)  \\\n",
       "0   01.01.2009 00:10:00    996.52     -8.02    265.40        -8.90    93.3   \n",
       "6   01.01.2009 01:10:00    996.50     -7.62    265.81        -8.30    94.8   \n",
       "12  01.01.2009 02:10:00    996.63     -8.85    264.57        -9.70    93.5   \n",
       "18  01.01.2009 03:10:00    996.87     -8.84    264.56        -9.69    93.5   \n",
       "24  01.01.2009 04:10:00    997.05     -9.23    264.15       -10.25    92.2   \n",
       "\n",
       "    VPmax (mbar)  VPact (mbar)  VPdef (mbar)  sh (g/kg)  H2OC (mmol/mol)  \\\n",
       "0           3.33          3.11          0.22       1.94             3.12   \n",
       "6           3.44          3.26          0.18       2.04             3.27   \n",
       "12          3.12          2.92          0.20       1.82             2.93   \n",
       "18          3.13          2.92          0.20       1.83             2.93   \n",
       "24          3.03          2.79          0.24       1.74             2.80   \n",
       "\n",
       "    rho (g/m**3)  wv (m/s)  max. wv (m/s)  wd (deg)  \n",
       "0        1307.75      1.03           1.75     152.3  \n",
       "6        1305.68      0.18           0.63     166.5  \n",
       "12       1312.11      0.16           0.50     158.3  \n",
       "18       1312.37      0.07           0.25     129.3  \n",
       "24       1314.62      0.10           0.38     203.9  "
      ]
     },
     "execution_count": 3,
     "metadata": {},
     "output_type": "execute_result"
    }
   ],
   "source": [
    "df.head()"
   ]
  },
  {
   "cell_type": "markdown",
   "metadata": {
    "id": "JHwD7iLeWTm1"
   },
   "source": [
    "También podemos ver como cambian los datos de las variables a lo largo del tiempo"
   ]
  },
  {
   "cell_type": "code",
   "execution_count": 4,
   "metadata": {
    "id": "7aoHeJUGEKeo"
   },
   "outputs": [
    {
     "data": {
      "image/png": "[encoded data removed]",
      "text/plain": [
       "<Figure size 640x480 with 3 Axes>"
      ]
     },
     "metadata": {},
     "output_type": "display_data"
    },
    {
     "data": {
      "image/png": "[encoded data removed]",
      "text/plain": [
       "<Figure size 640x480 with 3 Axes>"
      ]
     },
     "metadata": {},
     "output_type": "display_data"
    }
   ],
   "source": [
    "plot_cols = ['T (degC)', 'p (mbar)', 'rho (g/m**3)']\n",
    "plot_features = df[plot_cols]\n",
    "plot_features.index = df['Date Time']\n",
    "_ = plot_features.plot(subplots=True)\n",
    "\n",
    "plot_features = df[plot_cols][:480]\n",
    "plot_features.index = df['Date Time'][:480]\n",
    "_ = plot_features.plot(subplots=True)"
   ]
  },
  {
   "cell_type": "markdown",
   "metadata": {
    "id": "fBWw_ncKh1EA"
   },
   "source": [
    "## Preprocesado de los datos\n",
    "\n",
    "Primero de nada, vamos a observar las estadísticas de cada dato. Para ello, la librería Pandas nos permite obtener información de una manera muy sencilla."
   ]
  },
  {
   "cell_type": "code",
   "execution_count": 11,
   "metadata": {
    "id": "ZFyHhz4lhvme"
   },
   "outputs": [
    {
     "data": {
      "text/html": [
       "<div>\n",
       "<style scoped>\n",
       "    .dataframe tbody tr th:only-of-type {\n",
       "        vertical-align: middle;\n",
       "    }\n",
       "\n",
       "    .dataframe tbody tr th {\n",
       "        vertical-align: top;\n",
       "    }\n",
       "\n",
       "    .dataframe thead th {\n",
       "        text-align: right;\n",
       "    }\n",
       "</style>\n",
       "<table border=\"1\" class=\"dataframe\">\n",
       "  <thead>\n",
       "    <tr style=\"text-align: right;\">\n",
       "      <th></th>\n",
       "      <th>count</th>\n",
       "      <th>mean</th>\n",
       "      <th>std</th>\n",
       "      <th>min</th>\n",
       "      <th>25%</th>\n",
       "      <th>50%</th>\n",
       "      <th>75%</th>\n",
       "      <th>max</th>\n",
       "    </tr>\n",
       "  </thead>\n",
       "  <tbody>\n",
       "    <tr>\n",
       "      <th>p (mbar)</th>\n",
       "      <td>70092.0</td>\n",
       "      <td>989.212830</td>\n",
       "      <td>8.358709</td>\n",
       "      <td>914.10</td>\n",
       "      <td>984.20</td>\n",
       "      <td>989.58</td>\n",
       "      <td>994.72</td>\n",
       "      <td>1015.28</td>\n",
       "    </tr>\n",
       "    <tr>\n",
       "      <th>T (degC)</th>\n",
       "      <td>70092.0</td>\n",
       "      <td>9.450272</td>\n",
       "      <td>8.423862</td>\n",
       "      <td>-23.01</td>\n",
       "      <td>3.36</td>\n",
       "      <td>9.42</td>\n",
       "      <td>15.47</td>\n",
       "      <td>37.13</td>\n",
       "    </tr>\n",
       "    <tr>\n",
       "      <th>Tpot (K)</th>\n",
       "      <td>70092.0</td>\n",
       "      <td>283.492874</td>\n",
       "      <td>8.504928</td>\n",
       "      <td>250.60</td>\n",
       "      <td>277.43</td>\n",
       "      <td>283.47</td>\n",
       "      <td>289.53</td>\n",
       "      <td>311.06</td>\n",
       "    </tr>\n",
       "    <tr>\n",
       "      <th>Tdew (degC)</th>\n",
       "      <td>70092.0</td>\n",
       "      <td>4.955267</td>\n",
       "      <td>6.730338</td>\n",
       "      <td>-25.01</td>\n",
       "      <td>0.23</td>\n",
       "      <td>5.22</td>\n",
       "      <td>10.06</td>\n",
       "      <td>23.11</td>\n",
       "    </tr>\n",
       "    <tr>\n",
       "      <th>rh (%)</th>\n",
       "      <td>70092.0</td>\n",
       "      <td>76.005225</td>\n",
       "      <td>16.477654</td>\n",
       "      <td>14.20</td>\n",
       "      <td>65.21</td>\n",
       "      <td>79.30</td>\n",
       "      <td>89.40</td>\n",
       "      <td>100.00</td>\n",
       "    </tr>\n",
       "    <tr>\n",
       "      <th>VPmax (mbar)</th>\n",
       "      <td>70092.0</td>\n",
       "      <td>13.576563</td>\n",
       "      <td>7.739742</td>\n",
       "      <td>0.95</td>\n",
       "      <td>7.78</td>\n",
       "      <td>11.82</td>\n",
       "      <td>17.60</td>\n",
       "      <td>63.26</td>\n",
       "    </tr>\n",
       "    <tr>\n",
       "      <th>VPact (mbar)</th>\n",
       "      <td>70092.0</td>\n",
       "      <td>9.533275</td>\n",
       "      <td>4.183679</td>\n",
       "      <td>0.79</td>\n",
       "      <td>6.21</td>\n",
       "      <td>8.86</td>\n",
       "      <td>12.35</td>\n",
       "      <td>28.32</td>\n",
       "    </tr>\n",
       "    <tr>\n",
       "      <th>VPdef (mbar)</th>\n",
       "      <td>70092.0</td>\n",
       "      <td>4.043228</td>\n",
       "      <td>4.898197</td>\n",
       "      <td>0.00</td>\n",
       "      <td>0.87</td>\n",
       "      <td>2.19</td>\n",
       "      <td>5.30</td>\n",
       "      <td>45.42</td>\n",
       "    </tr>\n",
       "    <tr>\n",
       "      <th>sh (g/kg)</th>\n",
       "      <td>70092.0</td>\n",
       "      <td>6.022089</td>\n",
       "      <td>2.655839</td>\n",
       "      <td>0.50</td>\n",
       "      <td>3.92</td>\n",
       "      <td>5.59</td>\n",
       "      <td>7.80</td>\n",
       "      <td>18.13</td>\n",
       "    </tr>\n",
       "    <tr>\n",
       "      <th>H2OC (mmol/mol)</th>\n",
       "      <td>70092.0</td>\n",
       "      <td>9.639723</td>\n",
       "      <td>4.234911</td>\n",
       "      <td>0.80</td>\n",
       "      <td>6.28</td>\n",
       "      <td>8.96</td>\n",
       "      <td>12.48</td>\n",
       "      <td>28.82</td>\n",
       "    </tr>\n",
       "    <tr>\n",
       "      <th>rho (g/m**3)</th>\n",
       "      <td>70092.0</td>\n",
       "      <td>1216.062543</td>\n",
       "      <td>39.976602</td>\n",
       "      <td>1059.51</td>\n",
       "      <td>1187.45</td>\n",
       "      <td>1213.80</td>\n",
       "      <td>1242.74</td>\n",
       "      <td>1392.10</td>\n",
       "    </tr>\n",
       "    <tr>\n",
       "      <th>wv (m/s)</th>\n",
       "      <td>70092.0</td>\n",
       "      <td>2.128248</td>\n",
       "      <td>1.542891</td>\n",
       "      <td>0.00</td>\n",
       "      <td>0.99</td>\n",
       "      <td>1.76</td>\n",
       "      <td>2.86</td>\n",
       "      <td>28.49</td>\n",
       "    </tr>\n",
       "    <tr>\n",
       "      <th>max. wv (m/s)</th>\n",
       "      <td>70092.0</td>\n",
       "      <td>3.529431</td>\n",
       "      <td>2.334491</td>\n",
       "      <td>0.00</td>\n",
       "      <td>1.76</td>\n",
       "      <td>2.96</td>\n",
       "      <td>4.75</td>\n",
       "      <td>21.58</td>\n",
       "    </tr>\n",
       "    <tr>\n",
       "      <th>wd (deg)</th>\n",
       "      <td>70092.0</td>\n",
       "      <td>175.028736</td>\n",
       "      <td>86.801711</td>\n",
       "      <td>0.00</td>\n",
       "      <td>125.90</td>\n",
       "      <td>198.20</td>\n",
       "      <td>234.70</td>\n",
       "      <td>360.00</td>\n",
       "    </tr>\n",
       "  </tbody>\n",
       "</table>\n",
       "</div>"
      ],
      "text/plain": [
       "                   count         mean        std      min      25%      50%  \\\n",
       "p (mbar)         70092.0   989.212830   8.358709   914.10   984.20   989.58   \n",
       "T (degC)         70092.0     9.450272   8.423862   -23.01     3.36     9.42   \n",
       "Tpot (K)         70092.0   283.492874   8.504928   250.60   277.43   283.47   \n",
       "Tdew (degC)      70092.0     4.955267   6.730338   -25.01     0.23     5.22   \n",
       "rh (%)           70092.0    76.005225  16.477654    14.20    65.21    79.30   \n",
       "VPmax (mbar)     70092.0    13.576563   7.739742     0.95     7.78    11.82   \n",
       "VPact (mbar)     70092.0     9.533275   4.183679     0.79     6.21     8.86   \n",
       "VPdef (mbar)     70092.0     4.043228   4.898197     0.00     0.87     2.19   \n",
       "sh (g/kg)        70092.0     6.022089   2.655839     0.50     3.92     5.59   \n",
       "H2OC (mmol/mol)  70092.0     9.639723   4.234911     0.80     6.28     8.96   \n",
       "rho (g/m**3)     70092.0  1216.062543  39.976602  1059.51  1187.45  1213.80   \n",
       "wv (m/s)         70092.0     2.128248   1.542891     0.00     0.99     1.76   \n",
       "max. wv (m/s)    70092.0     3.529431   2.334491     0.00     1.76     2.96   \n",
       "wd (deg)         70092.0   175.028736  86.801711     0.00   125.90   198.20   \n",
       "\n",
       "                     75%      max  \n",
       "p (mbar)          994.72  1015.28  \n",
       "T (degC)           15.47    37.13  \n",
       "Tpot (K)          289.53   311.06  \n",
       "Tdew (degC)        10.06    23.11  \n",
       "rh (%)             89.40   100.00  \n",
       "VPmax (mbar)       17.60    63.26  \n",
       "VPact (mbar)       12.35    28.32  \n",
       "VPdef (mbar)        5.30    45.42  \n",
       "sh (g/kg)           7.80    18.13  \n",
       "H2OC (mmol/mol)    12.48    28.82  \n",
       "rho (g/m**3)     1242.74  1392.10  \n",
       "wv (m/s)            2.86    28.49  \n",
       "max. wv (m/s)       4.75    21.58  \n",
       "wd (deg)          234.70   360.00  "
      ]
     },
     "execution_count": 11,
     "metadata": {},
     "output_type": "execute_result"
    }
   ],
   "source": [
    "df.describe().transpose()"
   ]
  },
  {
   "cell_type": "markdown",
   "metadata": {
    "id": "6cpyBP_MZdj-"
   },
   "source": [
    "### Limpiar el dataset\n",
    "En los datos podemos ver cosas extrañas. Por ejemplo, en la velocidad **wv** tenemos, como dato mínimo, valores de -9999m/s, que es una velocidad absurda. En este caso tenemos dos opciones:\n",
    "\n",
    "1. Eliminar las filas con el error.\n",
    "1. Poner un dato más fiable.\n",
    "\n",
    "En nuestro caso, vamos a decidirnos por la última, sustituyendo cualquier valor menor que 0 por un 0.\n"
   ]
  },
  {
   "cell_type": "code",
   "execution_count": 10,
   "metadata": {
    "id": "NCuqvBRlXcSa"
   },
   "outputs": [
    {
     "name": "stderr",
     "output_type": "stream",
     "text": [
      "/tmp/ipykernel_18440/3764061615.py:4: SettingWithCopyWarning: \n",
      "A value is trying to be set on a copy of a slice from a DataFrame\n",
      "\n",
      "See the caveats in the documentation: https://pandas.pydata.org/pandas-docs/stable/user_guide/indexing.html#returning-a-view-versus-a-copy\n",
      "  wv[wv_negativos] = 0\n"
     ]
    }
   ],
   "source": [
    "## TODO: sustituye los datos negativos de las columnas wv (m/s) y max. wv (m/s) por 0's\n",
    "wv = df['wv (m/s)']\n",
    "wv_negativos = wv < 0\n",
    "wv[wv_negativos] = 0\n",
    "\n",
    "wv_max = df[\"max. wv (m/s)\"]\n",
    "wv_max_negativos = wv_max < 0\n",
    "wv_max[wv_max_negativos] = 0"
   ]
  },
  {
   "cell_type": "markdown",
   "metadata": {
    "id": "77mBj__rcrui"
   },
   "source": [
    "Si la operación se ha completado satisfactoriamente, puedes volver a evaluar las estadísticas del dataset para comprobar que se han modificado los valores. \n",
    "\n",
    "### Transformación de datos\n",
    "\n",
    "So observamos los datos vemos que tenemos ciertos componentes que necesitan ser preprocesados para evitar errores innecesarios.\n",
    "\n",
    "#### Viento\n",
    "\n",
    "El viento se compone de las 3 últimas variables. En especial la última, **wd (deg)**, que marca la dirección del viento. ¿Cuál es el problema que contiene esta variable? Tómate un tiempo para evaluar la problemática."
   ]
  },
  {
   "cell_type": "markdown",
   "metadata": {
    "id": "zC1htvSroc7s"
   },
   "source": [
    "<font color='red'>TODO:</font> Escribe aquí el motivo por el que crees que la variable **wd (deg)** puede ser problemática en su forma actual.\n",
    "\n"
   ]
  },
  {
   "cell_type": "markdown",
   "metadata": {
    "id": "7hSCpabQMlnR"
   },
   "source": [
    "¿Ya te has dado cuenta del problema? ¡Es hora de arreglarlo! Sustituye el dato por una representación más útil. \n",
    "\n",
    "<font color='red'>PISTA:</font> la solución implica dividir la variable en dos nuevos campos."
   ]
  },
  {
   "cell_type": "code",
   "execution_count": null,
   "metadata": {
    "id": "wXNa7oG8M9o1"
   },
   "outputs": [],
   "source": [
    "# Convertimos los grados a radianes\n",
    "wd_rad = df.pop('wd (deg)')*np.pi / 180\n",
    "\n",
    "# TODO: modifica wd (deg) para obtener una mejor representación\n",
    "# Crea los nuevos componentes e insértalos en el dataframe.\n",
    "None\n",
    "None"
   ]
  },
  {
   "cell_type": "markdown",
   "metadata": {
    "id": "FMYrV16rFHEZ"
   },
   "source": [
    "#### Fecha\n",
    "\n",
    "La fecha es también algo muy importante en los datos, pero hay que tener en cuenta su periodicidad. En concreto, dos casos:\n",
    "\n",
    "- Periodicidad en la hora del día. \n",
    "- Periodicidad en la época del año.\n",
    "\n",
    "Un método simple para convertirlo en una señal utilizable es usar el [seno](https://numpy.org/doc/stable/reference/generated/numpy.sin.html) y el [coseno](https://numpy.org/doc/stable/reference/generated/numpy.cos.html) para convertir la hora en señales claras de \"Hora del día\" y \"Hora del año\". Hay que operar de tal manera que:\n",
    "\n",
    "1. $\\cos(hora~0) = \\cos(hora~24)$ y $\\sin(hora~0) = \\sin(hora~24)$ en la hora del día.\n",
    "1. $\\cos(1~enero) \\approx \\cos(31~diciembre)$ y $\\sin(1~enero) \\approx \\sin(31~diciembre)$ en la hora anual.\n",
    "\n",
    "<font color='red'>PISTA:</font> recuerda que:\n",
    "- $\\cos(0) = \\cos(2\\pi)$.\n",
    "- $\\sin(0) = \\sin(2\\pi)$."
   ]
  },
  {
   "cell_type": "code",
   "execution_count": null,
   "metadata": {
    "id": "42A3_NTSFiUb"
   },
   "outputs": [],
   "source": [
    "# Vamos a quitar la columna de la fecha\n",
    "date_time = pd.to_datetime(df.pop('Date Time'), format='%d.%m.%Y %H:%M:%S')\n",
    "\n",
    "# Lo convertimos en segundos\n",
    "timestamp_s = date_time.map(pd.Timestamp.timestamp)\n",
    "\n",
    "# TODO: calcula el número de segundos de un día y de un año\n",
    "day = None\n",
    "year = None\n",
    "\n",
    "# TODO: Extrae, para cada fecha, el seno y el coseno, y añádelos al dataframe\n",
    "df['Dia sin'] = None\n",
    "df['Dia cos'] = None\n",
    "df['Anho sin'] = None\n",
    "df['Anho cos'] = None"
   ]
  },
  {
   "cell_type": "markdown",
   "metadata": {
    "id": "0PD6nr0jR4wX"
   },
   "source": [
    "## Partición de datos\n",
    "\n",
    "Usaremos una división **(70%, 20%, 10%)** para los conjuntos de entrenamiento, validación y prueba. Tenga en cuenta que los datos **no** se mezclan aleatoriamente antes de dividirlos. Esto es por dos razones:\n",
    "\n",
    "1. Garantiza que aún sea posible dividir los datos en ventanas de muestras consecutivas.\n",
    "1. Garantiza que los resultados de la validación / prueba sean más realistas y se evalúen en función de los datos recopilados después de que el modelo haya sido entrenado."
   ]
  },
  {
   "cell_type": "code",
   "execution_count": null,
   "metadata": {
    "id": "Bx1-NUN5SOZZ"
   },
   "outputs": [],
   "source": [
    "# TODO: parte los datos según el porcentaje estipulado\n",
    "n_datos = len(df)\n",
    "\n",
    "train_df = None\n",
    "val_df = None\n",
    "test_df = None"
   ]
  },
  {
   "cell_type": "markdown",
   "metadata": {
    "id": "-xTEC4-YajTQ"
   },
   "source": [
    "# Normalización de los datos\n",
    "\n",
    "Para que una red neuronal entrene correctamente suele ser necesario que todos los datos tengan una misma escala, o al menos una parecida. Sin embargo, anteriormente hemos visto como algunas variables tienen medias cercanas a 1000, mientras que otras rondan el 0. Por tanto, necesitamos igualarlas.\n",
    "\n",
    "Existen múltiples maneras de escalar los datos, pero una de las más comunes es la normalización:\n",
    "\n",
    "$$ \\tilde{x} = \\dfrac{x - mean(x)}{std(x)} $$\n",
    "\n",
    "Consiste en restar, **a cada columna**, su media, dividiendo el resultado por su desviación típica. Para realizarlo, podemos hacer uso de las funciones de Pandas [mean](https://pandas.pydata.org/pandas-docs/stable/reference/api/pandas.DataFrame.mean.html) y [std](https://pandas.pydata.org/pandas-docs/stable/reference/api/pandas.DataFrame.std.html).\n",
    "\n",
    "Otra cosa a tener en cuenta es que **se usa la media y desviación del conjunto de entrenamiento** para normalizar todos los datos. Esto es así porque es el único conjunto de datos que conoceríamos a priori en un problema real."
   ]
  },
  {
   "cell_type": "code",
   "execution_count": null,
   "metadata": {
    "id": "gxm2jjJ6b7Fm"
   },
   "outputs": [],
   "source": [
    "# TODO = normaliza los dataframes\n",
    "train_mean = None\n",
    "train_std = None\n",
    "\n",
    "train_df = None\n",
    "val_df = None\n",
    "test_df = None"
   ]
  },
  {
   "cell_type": "markdown",
   "metadata": {
    "id": "M7kRHezEdR3-"
   },
   "source": [
    "Ahora podemos observar como los datos están más o menos balanceados, y todos en la misma escala."
   ]
  },
  {
   "cell_type": "code",
   "execution_count": null,
   "metadata": {
    "id": "Za-P-Vh5ehE-"
   },
   "outputs": [],
   "source": [
    "df_std = train_df.melt(var_name='Column', value_name='Normalized')\n",
    "plt.figure(figsize=(12, 6))\n",
    "ax = sns.violinplot(x='Column', y='Normalized', data=df_std)\n",
    "_ = ax.set_xticklabels(df.keys(), rotation=90)"
   ]
  },
  {
   "cell_type": "markdown",
   "metadata": {
    "id": "J9yQSlWTyaCp"
   },
   "source": [
    "## Ventana de datos\n",
    "\n",
    "Los modelos de esta práctica harán un conjunto de predicciones basadas en una ventana de muestras consecutivas de los datos. La agrupación de los datos se determinará mediante 3 parámetros:\n",
    "\n",
    "1. **Anchura de la entrada (input_width):** Es el número de datos de diferentes tiempos que vamos a meter en el modelo. \n",
    "1. **Anchura de la salida (label_width):** Es el número de datos de diferentes tiempos que vamos a tratar de predecir. \n",
    "1. **Retardo de la salida (offset):** Es el tiempo a pasar entre el último dato de la entrada y el primero de la salida.\n",
    "\n",
    "Aquí podemos ver una serie de distintos ejemplos:\n",
    "\n",
    "`input_width = 5, label_width = 1, offset = 1`\n",
    "\n",
    "<img src=\"./img/ventana1.png\" alt=\"Ventana de ejemplo 1\" width=\"400\"/>\n",
    "\n",
    "\n",
    "`input_width = 24, label_width = 4, offset = -2`\n",
    "\n",
    "<img src=\"./img/ventana2.png\" alt=\"Ventana de ejemplo 2\" width=\"400\"/>\n",
    "\n",
    "\n",
    "El objetivo de esta parte es **crear una función que divida el dataset de entrada en todos los segmentos posibles de entrada/salida**, teniendo en cuenta los 3 parámetros mencionados anteriormente."
   ]
  },
  {
   "cell_type": "code",
   "execution_count": null,
   "metadata": {
    "id": "tAkmdOj9FdF4"
   },
   "outputs": [
    {
     "name": "stdout",
     "output_type": "stream",
     "text": [
      "(array([[[0],\n",
      "        [1],\n",
      "        [2]]]), array([[[3],\n",
      "        [4]]]))\n"
     ]
    },
    {
     "ename": "AssertionError",
     "evalue": "",
     "output_type": "error",
     "traceback": [
      "\u001b[0;31m---------------------------------------------------------------------------\u001b[0m",
      "\u001b[0;31mAssertionError\u001b[0m                            Traceback (most recent call last)",
      "Cell \u001b[0;32mIn[3], line 27\u001b[0m\n\u001b[1;32m     25\u001b[0m prueba_x, prueba_y \u001b[38;5;241m=\u001b[39m sliding_window(np\u001b[38;5;241m.\u001b[39marange(\u001b[38;5;241m5\u001b[39m), np\u001b[38;5;241m.\u001b[39marange(\u001b[38;5;241m5\u001b[39m), input_width\u001b[38;5;241m=\u001b[39m\u001b[38;5;241m3\u001b[39m, label_width\u001b[38;5;241m=\u001b[39m\u001b[38;5;241m2\u001b[39m, offset\u001b[38;5;241m=\u001b[39m\u001b[38;5;241m0\u001b[39m)\n\u001b[1;32m     26\u001b[0m \u001b[38;5;28mprint\u001b[39m((prueba_x, prueba_y)) \u001b[38;5;66;03m# La salida esperada es (array([[[0], [1], [2]], [[1], [2], [3]], [[2], [3], [4]]]), array([[[1], [2]], [[2], [3]], [[3], [4]]]))\u001b[39;00m\n\u001b[0;32m---> 27\u001b[0m \u001b[38;5;28;01massert\u001b[39;00m(prueba_x\u001b[38;5;241m.\u001b[39mshape \u001b[38;5;241m==\u001b[39m (\u001b[38;5;241m3\u001b[39m, \u001b[38;5;241m3\u001b[39m, \u001b[38;5;241m1\u001b[39m) \u001b[38;5;129;01mand\u001b[39;00m prueba_y\u001b[38;5;241m.\u001b[39mshape \u001b[38;5;241m==\u001b[39m (\u001b[38;5;241m3\u001b[39m, \u001b[38;5;241m2\u001b[39m, \u001b[38;5;241m1\u001b[39m))\n",
      "\u001b[0;31mAssertionError\u001b[0m: "
     ]
    }
   ],
   "source": [
    "# TODO: completa la función sliding_window, sustituyendo las partes con None\n",
    "import numpy as np\n",
    "def sliding_window(data, labels, input_width, label_width=1, offset=0):\n",
    "    x = []\n",
    "    y = []\n",
    "\n",
    "    for i in range(len(data)-input_width-label_width-offset+1):\n",
    "        _x = data[i:i+input_width]\n",
    "        _y = labels[i+input_width+offset:i+input_width+offset+label_width]\n",
    "        x.append(_x)\n",
    "        y.append(_y)\n",
    "\n",
    "    x, y = np.array(x),np.array(y)\n",
    "\n",
    "    if len(x.shape) == 2:\n",
    "        x = x[:,:,np.newaxis]\n",
    "\n",
    "    if len(y.shape) == 2:\n",
    "        y = y[:,:,np.newaxis]\n",
    "    \n",
    "    return x, y\n",
    "\n",
    "\n",
    "# Prueba el código\n",
    "prueba_x, prueba_y = sliding_window(np.arange(5), np.arange(5), input_width=3, label_width=2, offset=-2)\n",
    "print((prueba_x, prueba_y)) # La salida esperada es (array([[[0], [1], [2]], [[1], [2], [3]], [[2], [3], [4]]]), array([[[1], [2]], [[2], [3]], [[3], [4]]]))\n",
    "assert(prueba_x.shape == (3, 3, 1) and prueba_y.shape == (3, 2, 1))"
   ]
  },
  {
   "cell_type": "markdown",
   "metadata": {
    "id": "1fXUE0t9H7fq"
   },
   "source": [
    "Una vez creada la función, se la pasamos a nuestros datos. Primero, definimos los parámetros de la función."
   ]
  },
  {
   "cell_type": "code",
   "execution_count": null,
   "metadata": {
    "id": "U9AKEH2lIB_U"
   },
   "outputs": [],
   "source": [
    "input_width = 24\n",
    "label_width = 24\n",
    "offset = -input_width + 1\n",
    "target_labels = 'T (degC)' # Vamos a tratar de predecir la temperatura\n",
    "\n",
    "\n",
    "# TODO: Llama a la función para dividir el dataset\n",
    "x_train, y_train = None\n",
    "x_val, y_val = None\n",
    "x_test, y_test = None\n",
    "\n"
   ]
  },
  {
   "cell_type": "markdown",
   "metadata": {
    "id": "FHgGO3NCSKOo"
   },
   "source": [
    "Vamos a comprobar el tamaño de los datos."
   ]
  },
  {
   "cell_type": "code",
   "execution_count": null,
   "metadata": {
    "id": "tcgmDl-QSNoE"
   },
   "outputs": [],
   "source": [
    "print('x_train shape :', x_train.shape)\n",
    "print('y_train shape :', y_train.shape)"
   ]
  },
  {
   "cell_type": "markdown",
   "metadata": {
    "id": "7ttiMl9JlzBR"
   },
   "source": [
    "## Creando el modelo\n",
    "\n",
    "Una vez obtenido un correcto preprocesado de los datos, vamos a crear el modelo. Nuestro primer modelo constará de dos partes:\n",
    "\n",
    "1. Capa recurrente ([LSTM](https://www.tensorflow.org/api_docs/python/tf/keras/layers/LSTM))\n",
    "1. Capa densa, para adecuar la salida al tamaño esperado.\n",
    "\n",
    "Un argumento de constructor importante para todas las capas de keras RNN (como LSTM) es el argumento `return_sequences`. Este parámetro puede configurar la capa de dos formas.\n",
    "\n",
    "1. Si es `False` (el valor por defecto) la capa solo devuelve el resultado del paso de tiempo final, lo que le da tiempo al modelo para calentar su estado interno antes de hacer una sola predicción:\n",
    "\n",
    "<img src=\"./img/lstm_1_window.png\" alt=\"LSTM 1 predicción\" width=\"400\"/>\n",
    "\n",
    "2. Si es `True` la capa devuelve una salida para cada entrada:\n",
    "\n",
    "<img src=\"./img/lstm_many_window.png\" alt=\"LSTM múltiples predicciones\" width=\"400\"/>\n",
    "\n",
    "Esto es útil para:\n",
    "  * Apilamiento de capas RNN.\n",
    "  * Entrenamiento de un modelo en múltiples pasos de tiempo simultáneamente.\n",
    "\n",
    "En nuestro caso, hemos definido nuestros datos con solapamiento, con el objetivo de entrenar nuestro modelo en múltiples pasos."
   ]
  },
  {
   "cell_type": "code",
   "execution_count": null,
   "metadata": {
    "id": "AhM3Sup5dcb_"
   },
   "outputs": [],
   "source": [
    "# TODO: Completa el modelo con las partes necesarias\n",
    "\n",
    "lstm_model = tf.keras.models.Sequential([\n",
    "    None, # Capa recurrente (usa un múmero de unidades de la capa oculta de 32, y establece correctamente el valor de return_sequences).\n",
    "    None # Capa densa (escoge correctamente su número de unidades)\n",
    "])"
   ]
  },
  {
   "cell_type": "markdown",
   "metadata": {
    "id": "7qwFar8Eg3bQ"
   },
   "source": [
    "## Entrenando el modelo\n",
    "\n",
    "Por último, sólo nos queda entrenar el modelo durante 20 iteraciones. Vamos a utilizar un `callback` llamado [`EarlyStopping`](https://www.tensorflow.org/api_docs/python/tf/keras/callbacks/EarlyStopping) para que pare el entrenamiento si el resultado en validación no mejora pasadas una serie de iteraciones."
   ]
  },
  {
   "cell_type": "code",
   "execution_count": null,
   "metadata": {
    "id": "KuFMXGGwfFRT"
   },
   "outputs": [],
   "source": [
    "MAX_EPOCHS = 20\n",
    "batch_size = 32\n",
    "\n",
    "def entrenar_modelo(model, train_data, train_label, val_data, val_label, epochs, batch_size, patience=5):\n",
    "    early_stopping = tf.keras.callbacks.EarlyStopping(monitor='val_loss',\n",
    "                                                      patience=patience,\n",
    "                                                      mode='min')\n",
    "\n",
    "    model.compile(loss=tf.losses.MeanSquaredError(),\n",
    "                  optimizer=tf.optimizers.Adam(),\n",
    "                  metrics=[tf.metrics.MeanAbsoluteError()])\n",
    "\n",
    "    history = model.fit(train_data, train_label, epochs=epochs,\n",
    "                        batch_size=batch_size,\n",
    "                        validation_data=(val_data, val_label),\n",
    "                        callbacks=[early_stopping])\n",
    "    return history\n",
    "\n",
    "history = entrenar_modelo(lstm_model, x_train, y_train, x_val, y_val, MAX_EPOCHS, batch_size)\n"
   ]
  },
  {
   "cell_type": "markdown",
   "metadata": {
    "id": "QBZWT9Aa23su"
   },
   "source": [
    "### Visualizando el resultado\n",
    "\n",
    "Una vez entrenado el modelo, vamos a ver cómo hace la predicción en test, con respecto al resultado esperado."
   ]
  },
  {
   "cell_type": "code",
   "execution_count": null,
   "metadata": {
    "id": "7cnyk2jr3D8u"
   },
   "outputs": [],
   "source": [
    "def plot_prediction(feed_data, expected_result, model_result, target_label, offset=1, index=0):\n",
    "\n",
    "    f_data_x = np.arange(feed_data.shape[1])\n",
    "    e_data_x = np.arange(expected_result.shape[1]) + offset\n",
    "    plt.plot(f_data_x, feed_data[index])\n",
    "    plt.plot(e_data_x, expected_result[index], '*r')\n",
    "    plt.plot(e_data_x, model_result[index], '^g')\n",
    "    plt.legend(['inputs', 'labels', 'predictions'])\n",
    "    plt.title(target_label)\n",
    "\n",
    "# TODO: predecimos el resultado del test con el modelo\n",
    "model_result = None\n",
    "\n",
    "target_index = test_df.columns.get_loc(target_labels)\n",
    "\n",
    "# TODO: llama a la función plot_prediction con los parámetros correctos\n",
    "plot_prediction(x_test[:, :, target_index], None, None, target_labels, label_width + offset, index=0)\n"
   ]
  },
  {
   "cell_type": "markdown",
   "metadata": {
    "id": "P5doswPU8oIj"
   },
   "source": [
    "La predicción es bastante cercana...pero algo falla. **¡Las temperaturas están mostrando el resultado normalizado!** Revierte la normalización para un correcto visualizado."
   ]
  },
  {
   "cell_type": "code",
   "execution_count": null,
   "metadata": {
    "id": "4hKwoekP9OTe"
   },
   "outputs": [],
   "source": [
    "# TODO: llama a la función plot_prediction con los valores sin normalizar\n",
    "# None"
   ]
  },
  {
   "cell_type": "markdown",
   "metadata": {
    "id": "souHxxK3_8Np"
   },
   "source": [
    "¡Enhorabuena! Has creado tu primera red recursiva. Ahora vamos a hacerlo un poco más complejo.\n",
    "\n",
    "# Predicción de múltiples pasos a futuro\n",
    "\n",
    "El modelo que vimos anteriormente utiliza la salida de cada entrada del LSTM para predecir el tiempo siguiente. \n",
    "\n",
    "**¿Qué pasaría entonces si uso el mismo modelo para predecir la temperatura en las 24h siguientes?** Si usásemos el mismo modelo, la predicción de la temperatura en el la hora 25 sólo tomaría en cuenta los datos de la temperatura de la primera hora, en lugar de las 24h que tenemos registradas. Por tanto, tendremos que hacer unos cambios en nuestro modelo."
   ]
  },
  {
   "cell_type": "code",
   "execution_count": null,
   "metadata": {
    "id": "xrfJjbD1A8Cf"
   },
   "outputs": [],
   "source": [
    "input_width = 24\n",
    "label_width = 24\n",
    "offset = 1\n",
    "target_labels = 'T (degC)' # Vamos a tratar de predecir la temperatura\n",
    "\n",
    "\n",
    "# TODO: Llama a la función para dividir el dataset\n",
    "x_train, y_train = None\n",
    "x_val, y_val = None\n",
    "x_test, y_test = None"
   ]
  },
  {
   "cell_type": "markdown",
   "metadata": {
    "id": "Hu5xtqQ5BSWA"
   },
   "source": [
    "## Creando el modelo\n",
    "\n",
    "En este modelo vamos a necesitar acumular la información de las 24h de entrada para empezar a predecir los resultados a la salida. El esquema a seguir es el siguiente:\n",
    "\n",
    "<img src=\"./img/multistep_lstm.png\" alt=\"LSTM 1 predicción\" width=\"400\"/>\n",
    "\n",
    "Por tanto, debemos hacer un cambio en el argumento `return_sequences` que explicamos anteriormente.\n",
    "\n",
    "A mayores, lo que vamos a hacer es concatenar dos capas LSTM. Para concatenar capas recurrentes, lo que hay que tener en cuenta es que el parámetro `return_sequences=True` tiene que estar activado en todas las capas menos en la última. En dicha capa, el valor de `return_sequences` dependerá de lo que queramos obtener."
   ]
  },
  {
   "cell_type": "code",
   "execution_count": null,
   "metadata": {
    "id": "GrSbFYGzCcR8"
   },
   "outputs": [],
   "source": [
    "# TODO: Completa el modelo con las partes necesarias\n",
    "\n",
    "lstm_model = tf.keras.models.Sequential([\n",
    "    None, # Capa recurrente (usa un múmero de unidades de la capa oculta de 32, y establece correctamente el valor de return_sequences).\n",
    "    None, # Capa recurrente (usa un múmero de unidades de la capa oculta de 32, y establece correctamente el valor de return_sequences).\n",
    "    None # Capa densa (escoge correctamente su número de unidades, \n",
    "#                      ya que se necesita una unidad por cada característica de salida que queramos predecir, \n",
    "#                      y por el número de veces que necesitamos predecir esa característica),\n",
    "    tf.keras.layers.Reshape((24, 1)) # reorganizamos la salida para que sea del tipo (label_width, n_output_features)\n",
    "])"
   ]
  },
  {
   "cell_type": "markdown",
   "metadata": {
    "id": "beQs706hD7O2"
   },
   "source": [
    "## Entrenando el modelo\n",
    "\n",
    "Por último, sólo nos queda entrenar el modelo durante 20 iteraciones."
   ]
  },
  {
   "cell_type": "code",
   "execution_count": null,
   "metadata": {
    "id": "VgdHO_c6EBAA"
   },
   "outputs": [],
   "source": [
    "history = entrenar_modelo(lstm_model, x_train, y_train, x_val, y_val, MAX_EPOCHS, batch_size)"
   ]
  },
  {
   "cell_type": "markdown",
   "metadata": {
    "id": "KPAdleFHEYPR"
   },
   "source": [
    "### Visualizando el resultado\n",
    "\n",
    "Una vez entrenado el modelo, vamos a ver cómo hace la predicción en test, con respecto al resultado esperado."
   ]
  },
  {
   "cell_type": "code",
   "execution_count": null,
   "metadata": {
    "id": "VvJDEPbAEnPl"
   },
   "outputs": [],
   "source": [
    "# TODO: predecimos el resultado del test con el modelo\n",
    "model_result = None\n",
    "\n",
    "target_index = test_df.columns.get_loc(target_labels)\n",
    "\n",
    "# TODO: llama a la función plot_prediction con los parámetros correctos\n",
    "plot_prediction(None)"
   ]
  },
  {
   "cell_type": "markdown",
   "metadata": {
    "id": "ZIEsuejQv4mP"
   },
   "source": [
    "Como puedes ver, es muchísimo más difícil predecir el tiempo con mucha antelación.\n",
    "\n",
    "# ¡ENHORABUENA! Has completado la práctica de Redes recurrentes.\n",
    "\n",
    "# ¿Deseas saber más?\n",
    "\n",
    "La redes recursivas también permiten la predicción a posteriori, utilizando como datos de entradas las mismas predicciones de la red en tiempos anteriores. Son las llamadas [redes auto-regresivas](https://eigenfoo.xyz/deep-autoregressive-models/). "
   ]
  },
  {
   "cell_type": "markdown",
   "metadata": {
    "id": "2QIu2fE3tIHA"
   },
   "source": [
    "# Trabajo extra\n",
    "\n",
    "Como trabajo extra, se propone realizar una idea parecida, pero con dificultad añadida.\n",
    "\n",
    "- Se utilizará una capa [GRU](https://www.tensorflow.org/api_docs/python/tf/keras/layers/GRU) en lugar de la LSTM.\n",
    "- Se propone predecir todas las variables del dataset al mismo tiempo, en lugar de sólo la temperatura."
   ]
  },
  {
   "cell_type": "code",
   "execution_count": null,
   "metadata": {
    "id": "RMavrtMX_7V7"
   },
   "outputs": [],
   "source": [
    "# TODO: escribe el código para el trabajo extra sin ayuda. Usa todos los bloques de código que quieras."
   ]
  }
 ],
 "metadata": {
  "accelerator": "GPU",
  "colab": {
   "collapsed_sections": [],
   "name": "9_rnns.ipynb",
   "provenance": []
  },
  "kernelspec": {
   "display_name": "DL",
   "language": "python",
   "name": "python3"
  },
  "language_info": {
   "codemirror_mode": {
    "name": "ipython",
    "version": 3
   },
   "file_extension": ".py",
   "mimetype": "text/x-python",
   "name": "python",
   "nbconvert_exporter": "python",
   "pygments_lexer": "ipython3",
   "version": "3.12.3"
  }
 },
 "nbformat": 4,
 "nbformat_minor": 4
}
